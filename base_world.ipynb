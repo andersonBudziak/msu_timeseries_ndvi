{
 "cells": [
  {
   "cell_type": "code",
   "execution_count": 39,
   "metadata": {},
   "outputs": [],
   "source": [
    "import ee\n",
    "from scipy.signal import savgol_filter\n",
    "from src.controllers.time_series_hls import HLS\n",
    "from src.controllers.plotter import PhenologyVisualizer\n",
    "from src.controllers.metrics_vos_pos import VosPosMetrics\n",
    "from src.controllers.metrics_bos_eso import BosEosMetrics\n",
    "from src.controllers.geometry import ProcessadorGeoDataFrame"
   ]
  },
  {
   "cell_type": "code",
   "execution_count": 40,
   "metadata": {},
   "outputs": [],
   "source": [
    "# Conecta ao Google Earth Engine\n",
    "ee.Authenticate()\n",
    "ee.Initialize()"
   ]
  },
  {
   "cell_type": "code",
   "execution_count": 41,
   "metadata": {},
   "outputs": [],
   "source": [
    "# Datas de análise\n",
    "start_date = '2022-01-01'\n",
    "end_date = '2022-12-31'\n",
    "\n",
    "#Paht polygons\n",
    "path = r'data\\sample_world.gpkg'\n",
    "\n",
    "#Index polygon, defoult is 0\n",
    "index_poligon = 2\n",
    "\n",
    "# Aplicar o filtro Savitzky-Golay\n",
    "window_size = 30\n",
    "poly_order = 4\n",
    "\n",
    "#Order NDVI\n",
    "order_ndvi = 30"
   ]
  },
  {
   "cell_type": "code",
   "execution_count": 42,
   "metadata": {},
   "outputs": [
    {
     "name": "stderr",
     "output_type": "stream",
     "text": [
      "c:\\Users\\ander\\OneDrive\\Área de Trabalho\\msu_timeseries_ndvi\\src\\controllers\\time_series_hls.py:125: FutureWarning: DataFrame.interpolate with object dtype is deprecated and will raise in a future version. Call obj.infer_objects(copy=False) before interpolating instead.\n",
      "  df = df.resample('D').interpolate(method='linear')\n"
     ]
    },
    {
     "ename": "ValueError",
     "evalue": "max() arg is an empty sequence",
     "output_type": "error",
     "traceback": [
      "\u001b[1;31m---------------------------------------------------------------------------\u001b[0m",
      "\u001b[1;31mValueError\u001b[0m                                Traceback (most recent call last)",
      "Cell \u001b[1;32mIn[42], line 14\u001b[0m\n\u001b[0;32m     12\u001b[0m \u001b[38;5;66;03m#Get and VOS and POS metrics\u001b[39;00m\n\u001b[0;32m     13\u001b[0m vos_pos_analyzer \u001b[38;5;241m=\u001b[39m VosPosMetrics(ndvi_df, order_ndvi)\n\u001b[1;32m---> 14\u001b[0m phenology_df \u001b[38;5;241m=\u001b[39m \u001b[43mvos_pos_analyzer\u001b[49m\u001b[38;5;241;43m.\u001b[39;49m\u001b[43manalyze_phenology\u001b[49m\u001b[43m(\u001b[49m\u001b[43m)\u001b[49m\n\u001b[0;32m     16\u001b[0m \u001b[38;5;66;03m#Get and BOS and EOS metrics\u001b[39;00m\n\u001b[0;32m     17\u001b[0m analysis \u001b[38;5;241m=\u001b[39m BosEosMetrics(ndvi_df, phenology_df, \u001b[38;5;241m0.457\u001b[39m)\n",
      "File \u001b[1;32mc:\\Users\\ander\\OneDrive\\Área de Trabalho\\msu_timeseries_ndvi\\src\\controllers\\metrics_vos_pos.py:56\u001b[0m, in \u001b[0;36mVosPosMetrics.analyze_phenology\u001b[1;34m(self)\u001b[0m\n\u001b[0;32m     53\u001b[0m max_peak_index \u001b[38;5;241m=\u001b[39m np\u001b[38;5;241m.\u001b[39margmax(\u001b[38;5;28mself\u001b[39m\u001b[38;5;241m.\u001b[39mndvi_df[\u001b[38;5;124m'\u001b[39m\u001b[38;5;124msavitzky_golay\u001b[39m\u001b[38;5;124m'\u001b[39m]\u001b[38;5;241m.\u001b[39miloc[peak_indexes])\n\u001b[0;32m     55\u001b[0m valley_indexes \u001b[38;5;241m=\u001b[39m \u001b[38;5;28mself\u001b[39m\u001b[38;5;241m.\u001b[39mfind_valleys()\n\u001b[1;32m---> 56\u001b[0m before_valley_index \u001b[38;5;241m=\u001b[39m \u001b[38;5;28;43mmax\u001b[39;49m\u001b[43m(\u001b[49m\u001b[43mvalley_indexes\u001b[49m\u001b[43m[\u001b[49m\u001b[43mvalley_indexes\u001b[49m\u001b[43m \u001b[49m\u001b[38;5;241;43m<\u001b[39;49m\u001b[43m \u001b[49m\u001b[43mpeak_indexes\u001b[49m\u001b[43m[\u001b[49m\u001b[43mmax_peak_index\u001b[49m\u001b[43m]\u001b[49m\u001b[43m]\u001b[49m\u001b[43m)\u001b[49m\n\u001b[0;32m     57\u001b[0m after_valley_index \u001b[38;5;241m=\u001b[39m \u001b[38;5;28mmin\u001b[39m(valley_indexes[valley_indexes \u001b[38;5;241m>\u001b[39m peak_indexes[max_peak_index]])\n\u001b[0;32m     59\u001b[0m \u001b[38;5;66;03m# Create rows for the new DataFrame\u001b[39;00m\n",
      "\u001b[1;31mValueError\u001b[0m: max() arg is an empty sequence"
     ]
    }
   ],
   "source": [
    "#Read geometry file\n",
    "processador = ProcessadorGeoDataFrame(path)\n",
    "vertices, geometry = processador.extrair_coordenadas(index_poligon)\n",
    "\n",
    "#Get the time sereis NDVI\n",
    "hsl = HLS(geometry, start_date, end_date)\n",
    "ndvi_df = hsl.convert_to_dataframe()\n",
    "\n",
    "#Smooth time series with NDVI\n",
    "ndvi_df['savitzky_golay'] = savgol_filter(ndvi_df['ndvi'], window_size, poly_order)\n",
    "\n",
    "#Get and VOS and POS metrics\n",
    "vos_pos_analyzer = VosPosMetrics(ndvi_df, order_ndvi)\n",
    "phenology_df = vos_pos_analyzer.analyze_phenology()\n",
    "\n",
    "#Get and BOS and EOS metrics\n",
    "analysis = BosEosMetrics(ndvi_df, phenology_df, 0.457)\n",
    "phenology_df  = analysis.execute_analysis()\n",
    "\n",
    "\n",
    "#Plot the results\n",
    "visualizer = PhenologyVisualizer(ndvi_df, phenology_df)\n",
    "visualizer.convert_dates()\n",
    "visualizer.create_plot()"
   ]
  },
  {
   "cell_type": "code",
   "execution_count": 45,
   "metadata": {},
   "outputs": [
    {
     "data": {
      "text/plain": [
       "<pandas.plotting._core.PlotAccessor object at 0x000001C0A38FF100>"
      ]
     },
     "execution_count": 45,
     "metadata": {},
     "output_type": "execute_result"
    }
   ],
   "source": []
  }
 ],
 "metadata": {
  "kernelspec": {
   "display_name": "api-inteligencia",
   "language": "python",
   "name": "python3"
  },
  "language_info": {
   "codemirror_mode": {
    "name": "ipython",
    "version": 3
   },
   "file_extension": ".py",
   "mimetype": "text/x-python",
   "name": "python",
   "nbconvert_exporter": "python",
   "pygments_lexer": "ipython3",
   "version": "3.10.13"
  }
 },
 "nbformat": 4,
 "nbformat_minor": 2
}
